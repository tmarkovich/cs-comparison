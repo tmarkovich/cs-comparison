{
 "metadata": {
  "name": "",
  "signature": "sha256:e2accf1abb971c9c2ad1999abac46f94bc2b1547bf3dccb69ba1fdc4e72e5318"
 },
 "nbformat": 3,
 "nbformat_minor": 0,
 "worksheets": [
  {
   "cells": [
    {
     "cell_type": "code",
     "collapsed": false,
     "input": [],
     "language": "python",
     "metadata": {},
     "outputs": []
    }
   ],
   "metadata": {}
  }
 ]
}