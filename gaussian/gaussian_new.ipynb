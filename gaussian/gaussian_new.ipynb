{
 "metadata": {
  "name": "",
  "signature": "sha256:792089049098c5a3e7b25f3571365b95e85452db5d6a845871851e7d55300728"
 },
 "nbformat": 3,
 "nbformat_minor": 0,
 "worksheets": [
  {
   "cells": [
    {
     "cell_type": "code",
     "collapsed": false,
     "input": [
      "import numpy as np\n",
      "import imp\n",
      "\n",
      "import csv\n",
      "f = open('/Users/tmarkovich/Dropbox/Projects/CSComparisonPaper/signals/gaussian/gaussian.csv', 'rb')\n",
      "reader = csv.reader(f)\n",
      "signal = []\n",
      "for row in reader:\n",
      "    signal.append(row)\n",
      "f.close()\n",
      "signal = np.array(signal).astype(np.float)\n",
      "time = signal[:,0]\n",
      "signal = np.squeeze(signal[:,1])\n",
      "plot(time, signal)"
     ],
     "language": "python",
     "metadata": {},
     "outputs": [
      {
       "metadata": {},
       "output_type": "pyout",
       "prompt_number": 1,
       "text": [
        "[<matplotlib.lines.Line2D at 0x108347210>]"
       ]
      },
      {
       "metadata": {},
       "output_type": "display_data",
       "png": "[encoded data removed]",
       "text": [
        "<matplotlib.figure.Figure at 0x108329fd0>"
       ]
      }
     ],
     "prompt_number": 1
    },
    {
     "cell_type": "code",
     "collapsed": false,
     "input": [
      "cs_utils = imp.load_source('cs_utils',\"/Users/tmarkovich/Dropbox/Projects/cslib2/cs_utils.py\")\n",
      "Astruct = imp.load_source('Astruct', '/Users/tmarkovich/Dropbox/Projects/cslib2/Astruct.py')\n",
      "twist = imp.load_source('twist',\"/Users/tmarkovich/Dropbox/Projects/cslib2/TwIST_Solver.py\")\n",
      "\n",
      "debug = False"
     ],
     "language": "python",
     "metadata": {},
     "outputs": [],
     "prompt_number": 2
    },
    {
     "cell_type": "code",
     "collapsed": false,
     "input": [
      "def gaussian(t, params):\n",
      "    \"\"\"\n",
      "    Returns a gaussian peak in the time domain\n",
      "\n",
      "    Arguments:\n",
      "    ----------\n",
      "    t : array like time vector\n",
      "    gamma : standard deviation\n",
      "    xi : the gaussian offset\n",
      "    lam : the amplitude prefactor\n",
      "\n",
      "    Outputs:\n",
      "    --------\n",
      "    returns a gaussian in the time domain\n",
      "    \"\"\"\n",
      "    sigma = params[0]\n",
      "    xi = params[1]\n",
      "    return lam*np.exp(-1.0*(t - xi)*(t - xi)/(sigma*sigma))"
     ],
     "language": "python",
     "metadata": {},
     "outputs": [],
     "prompt_number": 4
    },
    {
     "cell_type": "code",
     "collapsed": false,
     "input": [],
     "language": "python",
     "metadata": {},
     "outputs": []
    }
   ],
   "metadata": {}
  }
 ]
}